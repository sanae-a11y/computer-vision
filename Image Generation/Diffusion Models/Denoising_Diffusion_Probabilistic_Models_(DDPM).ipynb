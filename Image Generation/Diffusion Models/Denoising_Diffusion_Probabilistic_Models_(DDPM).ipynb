{
  "cells": [
    {
      "cell_type": "markdown",
      "metadata": {
        "id": "AYV_dMVDxyc2",
        "pycharm": {
          "name": "#%% md\n"
        }
      },
      "source": [
        "[![Github](https://img.shields.io/github/stars/labmlai/annotated_deep_learning_paper_implementations?style=social)](https://github.com/labmlai/annotated_deep_learning_paper_implementations)\n",
        "[![Open In Colab](https://colab.research.google.com/assets/colab-badge.svg)](https://colab.research.google.com/github/labmlai/annotated_deep_learning_paper_implementations/blob/master/labml_nn/diffusion/ddpm/experiment.ipynb)\n",
        "\n",
        "## [Denoising Diffusion Probabilistic Models (DDPM)](https://nn.labml.ai/diffusion/ddpm/index.html)\n",
        "\n",
        "This notebook trains a DDPM based model on MNIST digits dataset."
      ]
    },
    {
      "cell_type": "markdown",
      "metadata": {
        "id": "AahG_i2y5tY9",
        "pycharm": {
          "name": "#%% md\n"
        }
      },
      "source": [
        "### Install the packages"
      ]
    },
    {
      "cell_type": "code",
      "execution_count": null,
      "metadata": {
        "id": "ZCzmCrAIVg0L",
        "pycharm": {
          "name": "#%%\n"
        }
      },
      "outputs": [],
      "source": [
        "!pip install labml-nn --quiet"
      ]
    },
    {
      "cell_type": "markdown",
      "metadata": {
        "id": "SE2VUQ6L5zxI",
        "pycharm": {
          "name": "#%% md\n"
        }
      },
      "source": [
        "### Imports"
      ]
    },
    {
      "cell_type": "code",
      "execution_count": null,
      "metadata": {
        "jupyter": {
          "outputs_hidden": false
        },
        "pycharm": {
          "name": "#%%\n"
        },
        "id": "lQPzmQw4ZQf6"
      },
      "outputs": [],
      "source": [
        "import torch\n",
        "import torch.nn as nn\n",
        "\n",
        "from labml import experiment\n",
        "from labml.configs import option\n",
        "from labml_nn.diffusion.ddpm.experiment import Configs"
      ]
    },
    {
      "cell_type": "markdown",
      "metadata": {
        "pycharm": {
          "name": "#%% md\n"
        },
        "id": "NgsH10hTZQf7"
      },
      "source": [
        "### Create an experiment"
      ]
    },
    {
      "cell_type": "code",
      "execution_count": null,
      "metadata": {
        "jupyter": {
          "outputs_hidden": false
        },
        "pycharm": {
          "name": "#%%\n"
        },
        "id": "d6j7OJZYZQf8"
      },
      "outputs": [],
      "source": [
        "experiment.create(name=\"diffuse\", writers={'screen'})"
      ]
    },
    {
      "cell_type": "markdown",
      "metadata": {
        "pycharm": {
          "name": "#%% md\n"
        },
        "id": "rSEWaDL7ZQf9"
      },
      "source": [
        "### Configurations"
      ]
    },
    {
      "cell_type": "code",
      "execution_count": null,
      "metadata": {
        "jupyter": {
          "outputs_hidden": false
        },
        "pycharm": {
          "name": "#%%\n"
        },
        "id": "GdbjfqzfZQf-"
      },
      "outputs": [],
      "source": [
        "configs = Configs()"
      ]
    },
    {
      "cell_type": "markdown",
      "metadata": {
        "pycharm": {
          "name": "#%% md\n"
        },
        "id": "ws0-CgWMZQf_"
      },
      "source": [
        "Set experiment configurations and assign a configurations dictionary to override configurations"
      ]
    },
    {
      "cell_type": "code",
      "execution_count": null,
      "metadata": {
        "jupyter": {
          "outputs_hidden": false
        },
        "pycharm": {
          "name": "#%%\n"
        },
        "id": "inC39I4fZQgA"
      },
      "outputs": [],
      "source": [
        "experiment.configs(configs, {\n",
        "    'dataset': 'MNIST',\n",
        "    'image_channels': 1,\n",
        "    'epochs': 5,\n",
        "})"
      ]
    },
    {
      "cell_type": "markdown",
      "metadata": {
        "pycharm": {
          "name": "#%% md\n"
        },
        "id": "BeRLcDDhZQgA"
      },
      "source": [
        "Initializ"
      ]
    },
    {
      "cell_type": "code",
      "execution_count": null,
      "metadata": {
        "pycharm": {
          "name": "#%%\n"
        },
        "id": "sz2UH0y-ZQgB"
      },
      "outputs": [],
      "source": [
        "configs.init()"
      ]
    },
    {
      "cell_type": "markdown",
      "metadata": {
        "id": "EvI7MtgJ61w5",
        "pycharm": {
          "name": "#%% md\n"
        }
      },
      "source": [
        "Set PyTorch models for loading and saving"
      ]
    },
    {
      "cell_type": "code",
      "execution_count": null,
      "metadata": {
        "id": "GDlt7dp-5ALt",
        "pycharm": {
          "name": "#%%\n"
        }
      },
      "outputs": [],
      "source": [
        "experiment.add_pytorch_models({'eps_model': configs.eps_model})"
      ]
    },
    {
      "cell_type": "markdown",
      "metadata": {
        "id": "KJZRf8527GxL",
        "pycharm": {
          "name": "#%% md\n"
        }
      },
      "source": [
        "### Start the experiment and run the training loop."
      ]
    },
    {
      "cell_type": "code",
      "execution_count": null,
      "metadata": {
        "id": "aIAWo7Fw5DR8",
        "pycharm": {
          "name": "#%%\n"
        }
      },
      "outputs": [],
      "source": [
        "# Start the experiment\n",
        "with experiment.start():\n",
        "    configs.run()"
      ]
    },
    {
      "cell_type": "code",
      "execution_count": null,
      "metadata": {
        "pycharm": {
          "name": "#%%\n"
        },
        "id": "_48_FK8RZQgC"
      },
      "outputs": [],
      "source": []
    }
  ],
  "metadata": {
    "accelerator": "GPU",
    "colab": {
      "name": "Denoising Diffusion Probabilistic Models (DDPM)",
      "provenance": []
    },
    "kernelspec": {
      "display_name": "Python 3 (ipykernel)",
      "language": "python",
      "name": "python3"
    },
    "language_info": {
      "codemirror_mode": {
        "name": "ipython",
        "version": 3
      },
      "file_extension": ".py",
      "mimetype": "text/x-python",
      "name": "python",
      "nbconvert_exporter": "python",
      "pygments_lexer": "ipython3",
      "version": "3.8.12"
    }
  },
  "nbformat": 4,
  "nbformat_minor": 0
}